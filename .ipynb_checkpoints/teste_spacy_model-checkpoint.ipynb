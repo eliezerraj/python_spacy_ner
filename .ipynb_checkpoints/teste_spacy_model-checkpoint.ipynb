{
 "cells": [
  {
   "cell_type": "code",
   "execution_count": 204,
   "metadata": {},
   "outputs": [],
   "source": [
    "import spacy\n",
    "from datetime import date, timedelta\n",
    "nlp = spacy.load('model')\n",
    "\n",
    "def xpto(ents):\n",
    "    x = 1\n",
    "    for ent in ents:\n",
    "        x = x * int(ent.label_)\n",
    "    return x  "
   ]
  },
  {
   "cell_type": "code",
   "execution_count": 205,
   "metadata": {},
   "outputs": [
    {
     "name": "stdout",
     "output_type": "stream",
     "text": [
      "Entidades :  [('ano', '365'), ('que vem', '+1')]\n",
      "Current Date: 2020-07-19\n",
      "Target  Date: 2021-07-19\n"
     ]
    }
   ],
   "source": [
    "text = 'as vendas do ano que vem'\n",
    "doc = nlp(text)\n",
    "print(\"Entidades : \", [(ent.text, ent.label_) for ent in doc.ents])\n",
    "\n",
    "x = xpto(doc.ents)\n",
    "\n",
    "now = date.today()\n",
    "tgt_date = now + timedelta(days=x)\n",
    "\n",
    "print(\"Current Date:\", now)\n",
    "print(\"Target  Date:\", tgt_date)"
   ]
  },
  {
   "cell_type": "code",
   "execution_count": 206,
   "metadata": {},
   "outputs": [
    {
     "name": "stdout",
     "output_type": "stream",
     "text": [
      "Entidades :  [('proximos', '+2'), ('mes', '30')]\n",
      "Current Date: 2020-07-19\n",
      "Target  Date: 2020-09-17\n"
     ]
    }
   ],
   "source": [
    "text = 'as vendas do proximos mes'\n",
    "doc = nlp(text)\n",
    "print(\"Entidades : \", [(ent.text, ent.label_) for ent in doc.ents])\n",
    "\n",
    "x = xpto(doc.ents)\n",
    "\n",
    "now = date.today()\n",
    "tgt_date = now + timedelta(days=x)\n",
    "\n",
    "print(\"Current Date:\", now)\n",
    "print(\"Target  Date:\", tgt_date)"
   ]
  },
  {
   "cell_type": "code",
   "execution_count": 207,
   "metadata": {},
   "outputs": [
    {
     "name": "stdout",
     "output_type": "stream",
     "text": [
      "Entidades :  [('mes', '30'), ('que vem', '+1')]\n",
      "Current Date: 2020-07-19\n",
      "Target  Date: 2020-08-18\n"
     ]
    }
   ],
   "source": [
    "text = 'as vendas do mes que vem'\n",
    "doc = nlp(text)\n",
    "print(\"Entidades : \", [(ent.text, ent.label_) for ent in doc.ents])\n",
    "\n",
    "x = xpto(doc.ents)\n",
    "\n",
    "now = date.today()\n",
    "tgt_date = now + timedelta(days=x)\n",
    "\n",
    "print(\"Current Date:\", now)\n",
    "print(\"Target  Date:\", tgt_date)"
   ]
  },
  {
   "cell_type": "code",
   "execution_count": null,
   "metadata": {},
   "outputs": [],
   "source": []
  }
 ],
 "metadata": {
  "kernelspec": {
   "display_name": "Python 3",
   "language": "python",
   "name": "python3"
  },
  "language_info": {
   "codemirror_mode": {
    "name": "ipython",
    "version": 3
   },
   "file_extension": ".py",
   "mimetype": "text/x-python",
   "name": "python",
   "nbconvert_exporter": "python",
   "pygments_lexer": "ipython3",
   "version": "3.6.8"
  }
 },
 "nbformat": 4,
 "nbformat_minor": 2
}
